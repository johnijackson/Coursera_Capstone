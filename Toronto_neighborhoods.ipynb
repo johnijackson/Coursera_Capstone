{
 "cells": [
  {
   "cell_type": "markdown",
   "metadata": {},
   "source": [
    "<a> <img src=\"Toronto-skyline.jpg\" width=600 align=\"center\"></a>\n",
    "\n",
    "<h1 align=\"left\"><font size=\"5\">Toronto Neighborhoods - Segmenting and Clustering</font></h1>"
   ]
  },
  {
   "cell_type": "markdown",
   "metadata": {},
   "source": [
    "### Table of Contents\n",
    "\n",
    "1. Import python libraries, then import and wrangle the Toronto neighborhood data\n",
    "2. __Toronto Dataframe__\n",
    "3. __Toronto Dataframe with Latitude and Longitude__\n",
    "4. Explore the neighborhoods in Toronto\n",
    "5. Analyze Each Neighborhood\n",
    "6. Cluster Neighborhoods\n",
    "7. __Map and Examination of Clusters__"
   ]
  },
  {
   "cell_type": "markdown",
   "metadata": {},
   "source": [
    "### 1. Import libraries"
   ]
  },
  {
   "cell_type": "code",
   "execution_count": 1,
   "metadata": {},
   "outputs": [
    {
     "name": "stdout",
     "output_type": "stream",
     "text": [
      "Libraries imported.\n"
     ]
    }
   ],
   "source": [
    "# Import libraries\n",
    "import numpy as np # library to handle data in a vectorized manner\n",
    "\n",
    "import pandas as pd # library for data analsysis\n",
    "pd.set_option('display.max_columns', None)\n",
    "pd.set_option('display.max_rows', None)\n",
    "\n",
    "import json # library to handle JSON files\n",
    "\n",
    "# !conda install -c conda-forge geopy --yes # uncomment this line if necessary\n",
    "# get_ipython().system(\"conda install -c conda-forge geopy --yes\") # uncomment this line necessary\n",
    "# !pip install geopy  # this is the option that worked. Only needs to be run once\n",
    "\n",
    "from geopy.geocoders import Nominatim # convert an address into latitude and longitude values\n",
    "\n",
    "import requests # library to handle requests\n",
    "# from pandas.io.json import json_normalize # tranform JSON file into a pandas dataframe -- deprecated\n",
    "from pandas import json_normalize # tranform JSON file into a pandas dataframe\n",
    "\n",
    "# Matplotlib and associated plotting modules\n",
    "import matplotlib.cm as cm\n",
    "import matplotlib.colors as colors\n",
    "\n",
    "# import k-means from clustering stage\n",
    "from sklearn.cluster import KMeans\n",
    "\n",
    "#!conda install -c conda-forge folium=0.5.0 --yes # uncomment this line if you haven't completed the Foursquare API lab\n",
    "import folium # map rendering library\n",
    "\n",
    "# Additional libraries to import\n",
    "# !pip install geocoder\n",
    "import geocoder\n",
    "from IPython.display import display\n",
    "\n",
    "print('Libraries imported.')"
   ]
  },
  {
   "cell_type": "markdown",
   "metadata": {},
   "source": [
    "#### Load the table of \"M\" postal codes of Canada from the wiki page"
   ]
  },
  {
   "cell_type": "code",
   "execution_count": 2,
   "metadata": {},
   "outputs": [],
   "source": [
    "url = \"https://en.wikipedia.org/wiki/List_of_postal_codes_of_Canada:_M\"\n",
    "df_orig = pd.read_html(url)[0]"
   ]
  },
  {
   "cell_type": "markdown",
   "metadata": {},
   "source": [
    "#### Remove rows that have \"Not assigned\" in the Borough column"
   ]
  },
  {
   "cell_type": "code",
   "execution_count": 3,
   "metadata": {},
   "outputs": [],
   "source": [
    "df = df_orig.copy()  # create a deep copy\n",
    "df.drop(df[df.Borough == \"Not assigned\"].index, inplace=True)\n",
    "df.reset_index(drop=True, inplace=True)\n",
    "# df.head()"
   ]
  },
  {
   "cell_type": "markdown",
   "metadata": {},
   "source": [
    "#### Replace multiple neighborhoods with a comma-separated list"
   ]
  },
  {
   "cell_type": "code",
   "execution_count": 4,
   "metadata": {},
   "outputs": [],
   "source": [
    "df[\"Neighborhood\"] = df.Neighborhood.replace({\" /\":\",\"}, regex=True)\n",
    "# df.head()"
   ]
  },
  {
   "cell_type": "markdown",
   "metadata": {},
   "source": [
    "#### Look for any \"Not assigned\" neighborhoods, and replace \"Not assigned\" with the borough name"
   ]
  },
  {
   "cell_type": "code",
   "execution_count": 5,
   "metadata": {},
   "outputs": [],
   "source": [
    "# Note: there is almost certainly a one-line version of the below loop, but this works\n",
    "for idx in df.index:\n",
    "    if df[\"Neighborhood\"][idx] == \"Not assigned\":\n",
    "        df[\"Neighborhood\"][idx] = df[\"Borough\"][idx]"
   ]
  },
  {
   "cell_type": "markdown",
   "metadata": {},
   "source": [
    "## 2. Toronto Dataframe (first 10 rows)"
   ]
  },
  {
   "cell_type": "code",
   "execution_count": 6,
   "metadata": {},
   "outputs": [
    {
     "data": {
      "text/html": [
       "<div>\n",
       "<style scoped>\n",
       "    .dataframe tbody tr th:only-of-type {\n",
       "        vertical-align: middle;\n",
       "    }\n",
       "\n",
       "    .dataframe tbody tr th {\n",
       "        vertical-align: top;\n",
       "    }\n",
       "\n",
       "    .dataframe thead th {\n",
       "        text-align: right;\n",
       "    }\n",
       "</style>\n",
       "<table border=\"1\" class=\"dataframe\">\n",
       "  <thead>\n",
       "    <tr style=\"text-align: right;\">\n",
       "      <th></th>\n",
       "      <th>Postal code</th>\n",
       "      <th>Borough</th>\n",
       "      <th>Neighborhood</th>\n",
       "    </tr>\n",
       "  </thead>\n",
       "  <tbody>\n",
       "    <tr>\n",
       "      <th>0</th>\n",
       "      <td>M3A</td>\n",
       "      <td>North York</td>\n",
       "      <td>Parkwoods</td>\n",
       "    </tr>\n",
       "    <tr>\n",
       "      <th>1</th>\n",
       "      <td>M4A</td>\n",
       "      <td>North York</td>\n",
       "      <td>Victoria Village</td>\n",
       "    </tr>\n",
       "    <tr>\n",
       "      <th>2</th>\n",
       "      <td>M5A</td>\n",
       "      <td>Downtown Toronto</td>\n",
       "      <td>Regent Park, Harbourfront</td>\n",
       "    </tr>\n",
       "    <tr>\n",
       "      <th>3</th>\n",
       "      <td>M6A</td>\n",
       "      <td>North York</td>\n",
       "      <td>Lawrence Manor, Lawrence Heights</td>\n",
       "    </tr>\n",
       "    <tr>\n",
       "      <th>4</th>\n",
       "      <td>M7A</td>\n",
       "      <td>Downtown Toronto</td>\n",
       "      <td>Queen's Park, Ontario Provincial Government</td>\n",
       "    </tr>\n",
       "    <tr>\n",
       "      <th>5</th>\n",
       "      <td>M9A</td>\n",
       "      <td>Etobicoke</td>\n",
       "      <td>Islington Avenue</td>\n",
       "    </tr>\n",
       "    <tr>\n",
       "      <th>6</th>\n",
       "      <td>M1B</td>\n",
       "      <td>Scarborough</td>\n",
       "      <td>Malvern, Rouge</td>\n",
       "    </tr>\n",
       "    <tr>\n",
       "      <th>7</th>\n",
       "      <td>M3B</td>\n",
       "      <td>North York</td>\n",
       "      <td>Don Mills</td>\n",
       "    </tr>\n",
       "    <tr>\n",
       "      <th>8</th>\n",
       "      <td>M4B</td>\n",
       "      <td>East York</td>\n",
       "      <td>Parkview Hill, Woodbine Gardens</td>\n",
       "    </tr>\n",
       "    <tr>\n",
       "      <th>9</th>\n",
       "      <td>M5B</td>\n",
       "      <td>Downtown Toronto</td>\n",
       "      <td>Garden District, Ryerson</td>\n",
       "    </tr>\n",
       "  </tbody>\n",
       "</table>\n",
       "</div>"
      ],
      "text/plain": [
       "  Postal code           Borough                                 Neighborhood\n",
       "0         M3A        North York                                    Parkwoods\n",
       "1         M4A        North York                             Victoria Village\n",
       "2         M5A  Downtown Toronto                    Regent Park, Harbourfront\n",
       "3         M6A        North York             Lawrence Manor, Lawrence Heights\n",
       "4         M7A  Downtown Toronto  Queen's Park, Ontario Provincial Government\n",
       "5         M9A         Etobicoke                             Islington Avenue\n",
       "6         M1B       Scarborough                               Malvern, Rouge\n",
       "7         M3B        North York                                    Don Mills\n",
       "8         M4B         East York              Parkview Hill, Woodbine Gardens\n",
       "9         M5B  Downtown Toronto                     Garden District, Ryerson"
      ]
     },
     "execution_count": 6,
     "metadata": {},
     "output_type": "execute_result"
    }
   ],
   "source": [
    "df.head(10)"
   ]
  },
  {
   "cell_type": "markdown",
   "metadata": {},
   "source": [
    "### Show the number of rows in the dataframe"
   ]
  },
  {
   "cell_type": "code",
   "execution_count": 7,
   "metadata": {},
   "outputs": [
    {
     "name": "stdout",
     "output_type": "stream",
     "text": [
      "The Toronto neighborhood dataframe has 103 rows.\n",
      "The dataframe has 103 \"M\" postal codes and 10 boroughs. There are 103 rows in the dataframe.\n"
     ]
    }
   ],
   "source": [
    "print(f\"The Toronto neighborhood dataframe has {df.shape[0]} rows.\")\n",
    "print('The dataframe has {} \"M\" postal codes and {} boroughs. There are {} rows in the dataframe.'.format(\n",
    "        len(df['Postal code'].unique()),len(df['Borough'].unique()),df.shape[0]    )\n",
    ")"
   ]
  },
  {
   "cell_type": "markdown",
   "metadata": {},
   "source": [
    "#### Get the latitude and longitude for each postal code"
   ]
  },
  {
   "cell_type": "code",
   "execution_count": 8,
   "metadata": {},
   "outputs": [],
   "source": [
    "df=df.reindex(columns=[*df.columns.tolist(), 'Latitude', 'Longitude'], fill_value=None)"
   ]
  },
  {
   "cell_type": "code",
   "execution_count": 9,
   "metadata": {},
   "outputs": [
    {
     "name": "stdout",
     "output_type": "stream",
     "text": [
      "....................\n",
      "....................\n",
      "....................\n",
      "....................\n",
      "....................\n",
      "...\n",
      "\n"
     ]
    }
   ],
   "source": [
    "for idx in df.index:\n",
    "    postalCode =  df[\"Postal code\"][idx]\n",
    "    lat_lng_coords = None\n",
    "\n",
    "    # loop until we get the coordinates, with a max of 10 tries per postal code\n",
    "    maxcount = count = 0\n",
    "    while(lat_lng_coords is None):\n",
    "        g = geocoder.arcgis(f'{postalCode}, Toronto, Ontario')  # use \"arcgis\" instead of \"google\"\n",
    "        lat_lng_coords = g.latlng\n",
    "        count += 1\n",
    "        if count > 10:\n",
    "            lat_lng_coords = [-999,-999]\n",
    "        maxcount = max(count,maxcount)\n",
    "        \n",
    "    df.loc[idx,\"Latitude\"]  = lat_lng_coords[0]\n",
    "    df.loc[idx,\"Longitude\"] = lat_lng_coords[1]\n",
    "    print('.',end=\"\")  # geocoder calls are slow, so this shows there is progress\n",
    "    if not (idx+1)%20: print(\"\")\n",
    "\n",
    "print(\"\\n\")\n",
    "# print(f\"Most iterations required for a postal code: {maxcount}.\")"
   ]
  },
  {
   "cell_type": "markdown",
   "metadata": {},
   "source": [
    "## 3. Dataframe with added Latitude and Longitude:"
   ]
  },
  {
   "cell_type": "code",
   "execution_count": 10,
   "metadata": {},
   "outputs": [
    {
     "data": {
      "text/html": [
       "<div>\n",
       "<style scoped>\n",
       "    .dataframe tbody tr th:only-of-type {\n",
       "        vertical-align: middle;\n",
       "    }\n",
       "\n",
       "    .dataframe tbody tr th {\n",
       "        vertical-align: top;\n",
       "    }\n",
       "\n",
       "    .dataframe thead th {\n",
       "        text-align: right;\n",
       "    }\n",
       "</style>\n",
       "<table border=\"1\" class=\"dataframe\">\n",
       "  <thead>\n",
       "    <tr style=\"text-align: right;\">\n",
       "      <th></th>\n",
       "      <th>Postal code</th>\n",
       "      <th>Borough</th>\n",
       "      <th>Neighborhood</th>\n",
       "      <th>Latitude</th>\n",
       "      <th>Longitude</th>\n",
       "    </tr>\n",
       "  </thead>\n",
       "  <tbody>\n",
       "    <tr>\n",
       "      <th>0</th>\n",
       "      <td>M3A</td>\n",
       "      <td>North York</td>\n",
       "      <td>Parkwoods</td>\n",
       "      <td>43.752935</td>\n",
       "      <td>-79.335641</td>\n",
       "    </tr>\n",
       "    <tr>\n",
       "      <th>1</th>\n",
       "      <td>M4A</td>\n",
       "      <td>North York</td>\n",
       "      <td>Victoria Village</td>\n",
       "      <td>43.728102</td>\n",
       "      <td>-79.311890</td>\n",
       "    </tr>\n",
       "    <tr>\n",
       "      <th>2</th>\n",
       "      <td>M5A</td>\n",
       "      <td>Downtown Toronto</td>\n",
       "      <td>Regent Park, Harbourfront</td>\n",
       "      <td>43.650964</td>\n",
       "      <td>-79.353041</td>\n",
       "    </tr>\n",
       "    <tr>\n",
       "      <th>3</th>\n",
       "      <td>M6A</td>\n",
       "      <td>North York</td>\n",
       "      <td>Lawrence Manor, Lawrence Heights</td>\n",
       "      <td>43.723265</td>\n",
       "      <td>-79.451211</td>\n",
       "    </tr>\n",
       "    <tr>\n",
       "      <th>4</th>\n",
       "      <td>M7A</td>\n",
       "      <td>Downtown Toronto</td>\n",
       "      <td>Queen's Park, Ontario Provincial Government</td>\n",
       "      <td>43.661790</td>\n",
       "      <td>-79.389390</td>\n",
       "    </tr>\n",
       "    <tr>\n",
       "      <th>5</th>\n",
       "      <td>M9A</td>\n",
       "      <td>Etobicoke</td>\n",
       "      <td>Islington Avenue</td>\n",
       "      <td>43.667481</td>\n",
       "      <td>-79.528953</td>\n",
       "    </tr>\n",
       "    <tr>\n",
       "      <th>6</th>\n",
       "      <td>M1B</td>\n",
       "      <td>Scarborough</td>\n",
       "      <td>Malvern, Rouge</td>\n",
       "      <td>43.808626</td>\n",
       "      <td>-79.189913</td>\n",
       "    </tr>\n",
       "    <tr>\n",
       "      <th>7</th>\n",
       "      <td>M3B</td>\n",
       "      <td>North York</td>\n",
       "      <td>Don Mills</td>\n",
       "      <td>43.748900</td>\n",
       "      <td>-79.357220</td>\n",
       "    </tr>\n",
       "    <tr>\n",
       "      <th>8</th>\n",
       "      <td>M4B</td>\n",
       "      <td>East York</td>\n",
       "      <td>Parkview Hill, Woodbine Gardens</td>\n",
       "      <td>43.707193</td>\n",
       "      <td>-79.311529</td>\n",
       "    </tr>\n",
       "    <tr>\n",
       "      <th>9</th>\n",
       "      <td>M5B</td>\n",
       "      <td>Downtown Toronto</td>\n",
       "      <td>Garden District, Ryerson</td>\n",
       "      <td>43.657491</td>\n",
       "      <td>-79.377529</td>\n",
       "    </tr>\n",
       "  </tbody>\n",
       "</table>\n",
       "</div>"
      ],
      "text/plain": [
       "  Postal code           Borough                                 Neighborhood  \\\n",
       "0         M3A        North York                                    Parkwoods   \n",
       "1         M4A        North York                             Victoria Village   \n",
       "2         M5A  Downtown Toronto                    Regent Park, Harbourfront   \n",
       "3         M6A        North York             Lawrence Manor, Lawrence Heights   \n",
       "4         M7A  Downtown Toronto  Queen's Park, Ontario Provincial Government   \n",
       "5         M9A         Etobicoke                             Islington Avenue   \n",
       "6         M1B       Scarborough                               Malvern, Rouge   \n",
       "7         M3B        North York                                    Don Mills   \n",
       "8         M4B         East York              Parkview Hill, Woodbine Gardens   \n",
       "9         M5B  Downtown Toronto                     Garden District, Ryerson   \n",
       "\n",
       "    Latitude  Longitude  \n",
       "0  43.752935 -79.335641  \n",
       "1  43.728102 -79.311890  \n",
       "2  43.650964 -79.353041  \n",
       "3  43.723265 -79.451211  \n",
       "4  43.661790 -79.389390  \n",
       "5  43.667481 -79.528953  \n",
       "6  43.808626 -79.189913  \n",
       "7  43.748900 -79.357220  \n",
       "8  43.707193 -79.311529  \n",
       "9  43.657491 -79.377529  "
      ]
     },
     "execution_count": 10,
     "metadata": {},
     "output_type": "execute_result"
    }
   ],
   "source": [
    "df.head(10)"
   ]
  },
  {
   "cell_type": "markdown",
   "metadata": {},
   "source": [
    "#### Create a map of Toronto with neighborhoods superimposed on top."
   ]
  },
  {
   "cell_type": "code",
   "execution_count": 11,
   "metadata": {},
   "outputs": [
    {
     "data": {
      "text/html": [
       "<div style=\"width:100%;\"><div style=\"position:relative;width:100%;height:0;padding-bottom:60%;\"><iframe src=\"about:blank\" style=\"position:absolute;width:100%;height:100%;left:0;top:0;border:none !important;\" data-html=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 onload=\"this.contentDocument.open();this.contentDocument.write(atob(this.getAttribute('data-html')));this.contentDocument.close();\" allowfullscreen webkitallowfullscreen mozallowfullscreen></iframe></div></div>"
      ],
      "text/plain": [
       "<folium.folium.Map at 0x12adfb220>"
      ]
     },
     "execution_count": 11,
     "metadata": {},
     "output_type": "execute_result"
    }
   ],
   "source": [
    "# create map of Toronto using latitude and longitude values\n",
    "g = geocoder.arcgis(f'Toronto, Ontario')  # use \"arcgis\" instead of \"google\"\n",
    "latitude, longitude = g.latlng\n",
    "\n",
    "map_toronto = folium.Map(location=[latitude, longitude], zoom_start=10)\n",
    "\n",
    "# add markers to map\n",
    "for lat, lng, postalCode, borough in zip(df['Latitude'], df['Longitude'], df['Postal code'], df['Borough']):\n",
    "    label = '{}, {}'.format(postalCode, borough)\n",
    "    label = folium.Popup(label, parse_html=True)\n",
    "    folium.CircleMarker(\n",
    "        [lat, lng],\n",
    "        radius=5,\n",
    "        popup=label,\n",
    "        color='blue',\n",
    "        fill=True,\n",
    "        fill_color='#3186cc',\n",
    "        fill_opacity=0.7,\n",
    "        parse_html=False).add_to(map_toronto)  \n",
    "    \n",
    "map_toronto"
   ]
  },
  {
   "cell_type": "markdown",
   "metadata": {},
   "source": [
    "Define the URL, with credentials"
   ]
  },
  {
   "cell_type": "code",
   "execution_count": 12,
   "metadata": {
    "collapsed": true,
    "jupyter": {
     "outputs_hidden": true,
     "source_hidden": true
    }
   },
   "outputs": [
    {
     "name": "stdout",
     "output_type": "stream",
     "text": [
      "Your credentials:\n",
      "CLIENT_ID: HYJIVB4VRZEEUO5SXGXZ2LVNLBQ0WTDUZXL3PEO3JKJIDBB1\n",
      "CLIENT_SECRET:PYPFOFOGOGFMMOFKZ2QU0RAJ1I4WHW3CWWMBL3GMBZFRYAOP\n"
     ]
    }
   ],
   "source": [
    "# CLIENT_ID = 'your-client-ID' # your Foursquare ID\n",
    "# CLIENT_SECRET = 'your-client-secret' # your Foursquare Secret\n",
    "# VERSION = '20180605' # Foursquare API version\n",
    "CLIENT_ID     = 'HYJIVB4VRZEEUO5SXGXZ2LVNLBQ0WTDUZXL3PEO3JKJIDBB1' # your Foursquare ID\n",
    "CLIENT_SECRET = 'PYPFOFOGOGFMMOFKZ2QU0RAJ1I4WHW3CWWMBL3GMBZFRYAOP' # your Foursquare Secret\n",
    "VERSION       = '20180604'\n",
    "LIMIT = 30\n",
    "\n",
    "print('Your credentials:')\n",
    "print('CLIENT_ID: ' + CLIENT_ID)\n",
    "print('CLIENT_SECRET:' + CLIENT_SECRET)"
   ]
  },
  {
   "cell_type": "code",
   "execution_count": 14,
   "metadata": {
    "collapsed": true,
    "jupyter": {
     "outputs_hidden": true,
     "source_hidden": true
    }
   },
   "outputs": [
    {
     "data": {
      "text/plain": [
       "'https://api.foursquare.com/v2/venues/explore?&client_id=HYJIVB4VRZEEUO5SXGXZ2LVNLBQ0WTDUZXL3PEO3JKJIDBB1&client_secret=PYPFOFOGOGFMMOFKZ2QU0RAJ1I4WHW3CWWMBL3GMBZFRYAOP&v=20180604&ll=43.648690000000045,-79.38543999999996&radius=500&limit=100'"
      ]
     },
     "execution_count": 14,
     "metadata": {},
     "output_type": "execute_result"
    }
   ],
   "source": [
    "LIMIT = 100 # limit of number of venues returned by Foursquare API\n",
    "radius = 500 # define radius\n",
    "# create URL\n",
    "url = 'https://api.foursquare.com/v2/venues/explore?&client_id={}&client_secret={}&v={}&ll={},{}&radius={}&limit={}'.format(\n",
    "    CLIENT_ID, \n",
    "    CLIENT_SECRET, \n",
    "    VERSION, \n",
    "    latitude, \n",
    "    longitude, \n",
    "    radius, \n",
    "    LIMIT)\n",
    "url # display URL"
   ]
  },
  {
   "cell_type": "markdown",
   "metadata": {},
   "source": [
    "Send the GET request and examine the results"
   ]
  },
  {
   "cell_type": "code",
   "execution_count": 15,
   "metadata": {},
   "outputs": [],
   "source": [
    "results = requests.get(url).json()"
   ]
  },
  {
   "cell_type": "markdown",
   "metadata": {},
   "source": [
    "From the Foursquare lab in the previous module, we know that all the information is in the *items* key. Before we proceed, let's borrow the **get_category_type** function from the Foursquare lab."
   ]
  },
  {
   "cell_type": "code",
   "execution_count": 16,
   "metadata": {},
   "outputs": [],
   "source": [
    "# function that extracts the category of the venue\n",
    "def get_category_type(row):\n",
    "    try:\n",
    "        categories_list = row['categories']\n",
    "    except:\n",
    "        categories_list = row['venue.categories']\n",
    "        \n",
    "    if len(categories_list) == 0:\n",
    "        return None\n",
    "    else:\n",
    "        return categories_list[0]['name']"
   ]
  },
  {
   "cell_type": "markdown",
   "metadata": {},
   "source": [
    "Now we are ready to clean the json and structure it into a *pandas* dataframe."
   ]
  },
  {
   "cell_type": "code",
   "execution_count": 17,
   "metadata": {},
   "outputs": [],
   "source": [
    "venues = results['response']['groups'][0]['items']\n",
    "    \n",
    "nearby_venues = json_normalize(venues) # flatten JSON\n",
    "\n",
    "# filter columns\n",
    "filtered_columns = ['venue.name', 'venue.categories', 'venue.location.lat', 'venue.location.lng']\n",
    "nearby_venues =nearby_venues.loc[:, filtered_columns]\n",
    "\n",
    "# filter the category for each row\n",
    "nearby_venues['venue.categories'] = nearby_venues.apply(get_category_type, axis=1)\n",
    "\n",
    "# clean columns\n",
    "nearby_venues.columns = [col.split(\".\")[-1] for col in nearby_venues.columns]\n",
    "\n",
    "# nearby_venues.head()"
   ]
  },
  {
   "cell_type": "code",
   "execution_count": 18,
   "metadata": {},
   "outputs": [
    {
     "name": "stdout",
     "output_type": "stream",
     "text": [
      "100 venues were returned by Foursquare.\n"
     ]
    }
   ],
   "source": [
    "print('{} venues were returned by Foursquare.'.format(nearby_venues.shape[0]))"
   ]
  },
  {
   "cell_type": "markdown",
   "metadata": {},
   "source": [
    "## 4. Explore Neighborhoods in Toronto"
   ]
  },
  {
   "cell_type": "code",
   "execution_count": 19,
   "metadata": {},
   "outputs": [],
   "source": [
    "def getNearbyVenues(names, latitudes, longitudes, radius=500):\n",
    "    \n",
    "    venues_list=[]\n",
    "    for name, lat, lng in zip(names, latitudes, longitudes):\n",
    "        # print(f'{name}, lat={lat}, lng={lng}')\n",
    "            \n",
    "        # create the API request URL\n",
    "        url = 'https://api.foursquare.com/v2/venues/explore?&client_id={}&client_secret={}&v={}&ll={},{}&radius={}&limit={}'.format(\n",
    "            CLIENT_ID, \n",
    "            CLIENT_SECRET, \n",
    "            VERSION, \n",
    "            lat, \n",
    "            lng, \n",
    "            radius, \n",
    "            LIMIT)\n",
    "            \n",
    "        # make the GET request\n",
    "        results = requests.get(url).json()[\"response\"]['groups'][0]['items']\n",
    "        \n",
    "        # return only relevant information for each nearby venue\n",
    "        venues_list.append([(\n",
    "            name, \n",
    "            lat, \n",
    "            lng, \n",
    "            v['venue']['name'], \n",
    "            v['venue']['location']['lat'], \n",
    "            v['venue']['location']['lng'],  \n",
    "            v['venue']['categories'][0]['name']) for v in results])\n",
    "\n",
    "    nearby_venues = pd.DataFrame([item for venue_list in venues_list for item in venue_list])\n",
    "    nearby_venues.columns = ['Neighborhood', \n",
    "                  'Neighborhood Latitude', \n",
    "                  'Neighborhood Longitude', \n",
    "                  'Venue', \n",
    "                  'Venue Latitude', \n",
    "                  'Venue Longitude', \n",
    "                  'Venue Category']\n",
    "    \n",
    "    return(nearby_venues)"
   ]
  },
  {
   "cell_type": "code",
   "execution_count": 21,
   "metadata": {},
   "outputs": [],
   "source": [
    "toronto_venues = getNearbyVenues(names=df['Postal code'],\n",
    "                                   latitudes=df['Latitude'],\n",
    "                                   longitudes=df['Longitude']\n",
    "                                  )"
   ]
  },
  {
   "cell_type": "markdown",
   "metadata": {},
   "source": [
    "#### Let's check the size of the resulting dataframe"
   ]
  },
  {
   "cell_type": "code",
   "execution_count": 22,
   "metadata": {},
   "outputs": [
    {
     "name": "stdout",
     "output_type": "stream",
     "text": [
      "(2365, 7)\n"
     ]
    },
    {
     "data": {
      "text/html": [
       "<div>\n",
       "<style scoped>\n",
       "    .dataframe tbody tr th:only-of-type {\n",
       "        vertical-align: middle;\n",
       "    }\n",
       "\n",
       "    .dataframe tbody tr th {\n",
       "        vertical-align: top;\n",
       "    }\n",
       "\n",
       "    .dataframe thead th {\n",
       "        text-align: right;\n",
       "    }\n",
       "</style>\n",
       "<table border=\"1\" class=\"dataframe\">\n",
       "  <thead>\n",
       "    <tr style=\"text-align: right;\">\n",
       "      <th></th>\n",
       "      <th>Neighborhood</th>\n",
       "      <th>Neighborhood Latitude</th>\n",
       "      <th>Neighborhood Longitude</th>\n",
       "      <th>Venue</th>\n",
       "      <th>Venue Latitude</th>\n",
       "      <th>Venue Longitude</th>\n",
       "      <th>Venue Category</th>\n",
       "    </tr>\n",
       "  </thead>\n",
       "  <tbody>\n",
       "    <tr>\n",
       "      <th>0</th>\n",
       "      <td>M3A</td>\n",
       "      <td>43.752935</td>\n",
       "      <td>-79.335641</td>\n",
       "      <td>Brookbanks Park</td>\n",
       "      <td>43.751976</td>\n",
       "      <td>-79.332140</td>\n",
       "      <td>Park</td>\n",
       "    </tr>\n",
       "    <tr>\n",
       "      <th>1</th>\n",
       "      <td>M3A</td>\n",
       "      <td>43.752935</td>\n",
       "      <td>-79.335641</td>\n",
       "      <td>Variety Store</td>\n",
       "      <td>43.751974</td>\n",
       "      <td>-79.333114</td>\n",
       "      <td>Food &amp; Drink Shop</td>\n",
       "    </tr>\n",
       "    <tr>\n",
       "      <th>2</th>\n",
       "      <td>M4A</td>\n",
       "      <td>43.728102</td>\n",
       "      <td>-79.311890</td>\n",
       "      <td>Tim Hortons</td>\n",
       "      <td>43.725517</td>\n",
       "      <td>-79.313103</td>\n",
       "      <td>Coffee Shop</td>\n",
       "    </tr>\n",
       "    <tr>\n",
       "      <th>3</th>\n",
       "      <td>M4A</td>\n",
       "      <td>43.728102</td>\n",
       "      <td>-79.311890</td>\n",
       "      <td>Portugril</td>\n",
       "      <td>43.725819</td>\n",
       "      <td>-79.312785</td>\n",
       "      <td>Portuguese Restaurant</td>\n",
       "    </tr>\n",
       "    <tr>\n",
       "      <th>4</th>\n",
       "      <td>M4A</td>\n",
       "      <td>43.728102</td>\n",
       "      <td>-79.311890</td>\n",
       "      <td>Eglinton Ave E &amp; Sloane Ave/Bermondsey Rd</td>\n",
       "      <td>43.726086</td>\n",
       "      <td>-79.313620</td>\n",
       "      <td>Intersection</td>\n",
       "    </tr>\n",
       "  </tbody>\n",
       "</table>\n",
       "</div>"
      ],
      "text/plain": [
       "  Neighborhood  Neighborhood Latitude  Neighborhood Longitude  \\\n",
       "0          M3A              43.752935              -79.335641   \n",
       "1          M3A              43.752935              -79.335641   \n",
       "2          M4A              43.728102              -79.311890   \n",
       "3          M4A              43.728102              -79.311890   \n",
       "4          M4A              43.728102              -79.311890   \n",
       "\n",
       "                                       Venue  Venue Latitude  Venue Longitude  \\\n",
       "0                            Brookbanks Park       43.751976       -79.332140   \n",
       "1                              Variety Store       43.751974       -79.333114   \n",
       "2                                Tim Hortons       43.725517       -79.313103   \n",
       "3                                  Portugril       43.725819       -79.312785   \n",
       "4  Eglinton Ave E & Sloane Ave/Bermondsey Rd       43.726086       -79.313620   \n",
       "\n",
       "          Venue Category  \n",
       "0                   Park  \n",
       "1      Food & Drink Shop  \n",
       "2            Coffee Shop  \n",
       "3  Portuguese Restaurant  \n",
       "4           Intersection  "
      ]
     },
     "execution_count": 22,
     "metadata": {},
     "output_type": "execute_result"
    }
   ],
   "source": [
    "print(toronto_venues.shape)\n",
    "toronto_venues.head()"
   ]
  },
  {
   "cell_type": "markdown",
   "metadata": {},
   "source": [
    "Let's check how many venues were returned for each neighborhood"
   ]
  },
  {
   "cell_type": "code",
   "execution_count": 23,
   "metadata": {},
   "outputs": [],
   "source": [
    "# toronto_venues.groupby('Neighborhood').count()"
   ]
  },
  {
   "cell_type": "markdown",
   "metadata": {},
   "source": [
    "#### Let's find out how many unique categories can be curated from all the returned venues"
   ]
  },
  {
   "cell_type": "code",
   "execution_count": 24,
   "metadata": {},
   "outputs": [
    {
     "name": "stdout",
     "output_type": "stream",
     "text": [
      "There are 267 uniques categories.\n"
     ]
    }
   ],
   "source": [
    "print('There are {} uniques categories.'.format(len(toronto_venues['Venue Category'].unique())))"
   ]
  },
  {
   "cell_type": "markdown",
   "metadata": {},
   "source": [
    "## 5. Analyze Each Neighborhood"
   ]
  },
  {
   "cell_type": "code",
   "execution_count": 25,
   "metadata": {},
   "outputs": [],
   "source": [
    "# one hot encoding\n",
    "toronto_onehot = pd.get_dummies(toronto_venues[['Venue Category']], prefix=\"\", prefix_sep=\"\")\n",
    "\n",
    "# add neighborhood column back to dataframe\n",
    "toronto_onehot['Neighborhood'] = toronto_venues['Neighborhood'] \n",
    "\n",
    "# move neighborhood column to the first column\n",
    "fixed_columns = [toronto_onehot.columns[-1]] + list(toronto_onehot.columns[:-1])\n",
    "toronto_onehot = toronto_onehot[fixed_columns]\n",
    "\n",
    "# toronto_onehot.head()"
   ]
  },
  {
   "cell_type": "code",
   "execution_count": 26,
   "metadata": {},
   "outputs": [
    {
     "data": {
      "text/plain": [
       "(2365, 267)"
      ]
     },
     "execution_count": 26,
     "metadata": {},
     "output_type": "execute_result"
    }
   ],
   "source": [
    "toronto_onehot.shape"
   ]
  },
  {
   "cell_type": "markdown",
   "metadata": {},
   "source": [
    "#### Next, let's group rows by neighborhood and by taking the mean of the frequency of occurrence of each category"
   ]
  },
  {
   "cell_type": "code",
   "execution_count": 27,
   "metadata": {},
   "outputs": [],
   "source": [
    "toronto_grouped = toronto_onehot.groupby('Neighborhood').mean().reset_index()\n",
    "# toronto_grouped"
   ]
  },
  {
   "cell_type": "markdown",
   "metadata": {},
   "source": [
    "#### Let's confirm the new size"
   ]
  },
  {
   "cell_type": "code",
   "execution_count": 28,
   "metadata": {},
   "outputs": [
    {
     "data": {
      "text/plain": [
       "(100, 267)"
      ]
     },
     "execution_count": 28,
     "metadata": {},
     "output_type": "execute_result"
    }
   ],
   "source": [
    "toronto_grouped.shape"
   ]
  },
  {
   "cell_type": "markdown",
   "metadata": {},
   "source": [
    "#### Print each neighborhood along with the top 5 most common venues for the first 3 neighborhoods"
   ]
  },
  {
   "cell_type": "code",
   "execution_count": 29,
   "metadata": {},
   "outputs": [
    {
     "name": "stdout",
     "output_type": "stream",
     "text": [
      "----M1B----\n",
      "          venue  freq\n",
      "0         Trail   1.0\n",
      "1   Yoga Studio   0.0\n",
      "2        Museum   0.0\n",
      "3  Noodle House   0.0\n",
      "4     Nightclub   0.0\n",
      "\n",
      "\n",
      "----M1E----\n",
      "                    venue  freq\n",
      "0             Pizza Place  0.10\n",
      "1    Fast Food Restaurant  0.10\n",
      "2      Mexican Restaurant  0.05\n",
      "3  Thrift / Vintage Store  0.05\n",
      "4              Sports Bar  0.05\n",
      "\n",
      "\n",
      "----M1G----\n",
      "                     venue  freq\n",
      "0              Coffee Shop  0.67\n",
      "1        Korean Restaurant  0.33\n",
      "2  New American Restaurant  0.00\n",
      "3                   Office  0.00\n",
      "4  North Indian Restaurant  0.00\n",
      "\n",
      "\n"
     ]
    }
   ],
   "source": [
    "num_top_venues = 5\n",
    "count = 0\n",
    "for hood in toronto_grouped['Neighborhood']:\n",
    "    print(\"----\"+hood+\"----\")\n",
    "    temp = toronto_grouped[toronto_grouped['Neighborhood'] == hood].T.reset_index()\n",
    "    temp.columns = ['venue','freq']\n",
    "    temp = temp.iloc[1:]\n",
    "    temp['freq'] = temp['freq'].astype(float)\n",
    "    temp = temp.round({'freq': 2})\n",
    "    print(temp.sort_values('freq', ascending=False).reset_index(drop=True).head(num_top_venues))\n",
    "    print('\\n')\n",
    "    count += 1\n",
    "    if count >= 3:\n",
    "        break"
   ]
  },
  {
   "cell_type": "markdown",
   "metadata": {},
   "source": [
    "#### Let's put that into a *pandas* dataframe"
   ]
  },
  {
   "cell_type": "markdown",
   "metadata": {},
   "source": [
    "First, let's write a function to sort the venues in descending order."
   ]
  },
  {
   "cell_type": "code",
   "execution_count": 30,
   "metadata": {},
   "outputs": [],
   "source": [
    "def return_most_common_venues(row, num_top_venues):\n",
    "    row_categories = row.iloc[1:]\n",
    "    row_categories_sorted = row_categories.sort_values(ascending=False)\n",
    "    \n",
    "    return row_categories_sorted.index.values[0:num_top_venues]"
   ]
  },
  {
   "cell_type": "markdown",
   "metadata": {},
   "source": [
    "Now let's create the new dataframe and display the top 10 venues for each neighborhood."
   ]
  },
  {
   "cell_type": "code",
   "execution_count": 31,
   "metadata": {},
   "outputs": [],
   "source": [
    "num_top_venues = 10\n",
    "\n",
    "indicators = ['st', 'nd', 'rd']\n",
    "\n",
    "# create columns according to number of top venues\n",
    "columns = ['Neighborhood']\n",
    "for ind in np.arange(num_top_venues):\n",
    "    try:\n",
    "        columns.append('{}{} Most Common Venue'.format(ind+1, indicators[ind]))\n",
    "    except:\n",
    "        columns.append('{}th Most Common Venue'.format(ind+1))\n",
    "\n",
    "# create a new dataframe\n",
    "neighborhoods_venues_sorted = pd.DataFrame(columns=columns)\n",
    "neighborhoods_venues_sorted['Neighborhood'] = toronto_grouped['Neighborhood']\n",
    "\n",
    "for ind in np.arange(toronto_grouped.shape[0]):\n",
    "    neighborhoods_venues_sorted.iloc[ind, 1:] = return_most_common_venues(toronto_grouped.iloc[ind, :], num_top_venues)\n",
    "\n",
    "# neighborhoods_venues_sorted.head()"
   ]
  },
  {
   "cell_type": "markdown",
   "metadata": {},
   "source": [
    "## 6. Cluster Neighborhoods"
   ]
  },
  {
   "cell_type": "markdown",
   "metadata": {},
   "source": [
    "Run k-means to cluster the neighborhood into 5 clusters."
   ]
  },
  {
   "cell_type": "code",
   "execution_count": 32,
   "metadata": {},
   "outputs": [
    {
     "data": {
      "text/plain": [
       "array([0, 4, 4, 0, 4, 4, 4, 2, 4, 4], dtype=int32)"
      ]
     },
     "execution_count": 32,
     "metadata": {},
     "output_type": "execute_result"
    }
   ],
   "source": [
    "# set number of clusters\n",
    "kclusters = 5\n",
    "\n",
    "toronto_grouped_clustering = toronto_grouped.drop('Neighborhood', 1)\n",
    "\n",
    "# run k-means clustering\n",
    "kmeans = KMeans(n_clusters=kclusters, random_state=0).fit(toronto_grouped_clustering)\n",
    "\n",
    "# check cluster labels generated for each row in the dataframe\n",
    "kmeans.labels_[0:10] "
   ]
  },
  {
   "cell_type": "markdown",
   "metadata": {},
   "source": [
    "Let's create a new dataframe that includes the cluster as well as the top 10 venues for each neighborhood."
   ]
  },
  {
   "cell_type": "code",
   "execution_count": 33,
   "metadata": {},
   "outputs": [],
   "source": [
    "# neighborhoods_venues_sorted.columns"
   ]
  },
  {
   "cell_type": "code",
   "execution_count": 34,
   "metadata": {},
   "outputs": [],
   "source": [
    "# add clustering labels\n",
    "neighborhoods_venues_sorted.insert(0, 'Cluster Labels', kmeans.labels_)"
   ]
  },
  {
   "cell_type": "code",
   "execution_count": 35,
   "metadata": {},
   "outputs": [],
   "source": [
    "# neighborhoods_venues_sorted.head()"
   ]
  },
  {
   "cell_type": "code",
   "execution_count": 36,
   "metadata": {},
   "outputs": [
    {
     "data": {
      "text/html": [
       "<div>\n",
       "<style scoped>\n",
       "    .dataframe tbody tr th:only-of-type {\n",
       "        vertical-align: middle;\n",
       "    }\n",
       "\n",
       "    .dataframe tbody tr th {\n",
       "        vertical-align: top;\n",
       "    }\n",
       "\n",
       "    .dataframe thead th {\n",
       "        text-align: right;\n",
       "    }\n",
       "</style>\n",
       "<table border=\"1\" class=\"dataframe\">\n",
       "  <thead>\n",
       "    <tr style=\"text-align: right;\">\n",
       "      <th></th>\n",
       "      <th>Postal code</th>\n",
       "      <th>Borough</th>\n",
       "      <th>Neighborhood</th>\n",
       "      <th>Latitude</th>\n",
       "      <th>Longitude</th>\n",
       "      <th>Cluster Labels</th>\n",
       "      <th>1st Most Common Venue</th>\n",
       "      <th>2nd Most Common Venue</th>\n",
       "      <th>3rd Most Common Venue</th>\n",
       "      <th>4th Most Common Venue</th>\n",
       "      <th>5th Most Common Venue</th>\n",
       "      <th>6th Most Common Venue</th>\n",
       "      <th>7th Most Common Venue</th>\n",
       "      <th>8th Most Common Venue</th>\n",
       "      <th>9th Most Common Venue</th>\n",
       "      <th>10th Most Common Venue</th>\n",
       "    </tr>\n",
       "  </thead>\n",
       "  <tbody>\n",
       "    <tr>\n",
       "      <th>0</th>\n",
       "      <td>M3A</td>\n",
       "      <td>North York</td>\n",
       "      <td>Parkwoods</td>\n",
       "      <td>43.752935</td>\n",
       "      <td>-79.335641</td>\n",
       "      <td>1</td>\n",
       "      <td>Food &amp; Drink Shop</td>\n",
       "      <td>Park</td>\n",
       "      <td>Farm</td>\n",
       "      <td>Eastern European Restaurant</td>\n",
       "      <td>Electronics Store</td>\n",
       "      <td>Elementary School</td>\n",
       "      <td>Ethiopian Restaurant</td>\n",
       "      <td>Falafel Restaurant</td>\n",
       "      <td>Farmers Market</td>\n",
       "      <td>Donut Shop</td>\n",
       "    </tr>\n",
       "    <tr>\n",
       "      <th>1</th>\n",
       "      <td>M4A</td>\n",
       "      <td>North York</td>\n",
       "      <td>Victoria Village</td>\n",
       "      <td>43.728102</td>\n",
       "      <td>-79.311890</td>\n",
       "      <td>4</td>\n",
       "      <td>Park</td>\n",
       "      <td>Pizza Place</td>\n",
       "      <td>Portuguese Restaurant</td>\n",
       "      <td>Intersection</td>\n",
       "      <td>Coffee Shop</td>\n",
       "      <td>Farm</td>\n",
       "      <td>Eastern European Restaurant</td>\n",
       "      <td>Electronics Store</td>\n",
       "      <td>Elementary School</td>\n",
       "      <td>Ethiopian Restaurant</td>\n",
       "    </tr>\n",
       "    <tr>\n",
       "      <th>2</th>\n",
       "      <td>M5A</td>\n",
       "      <td>Downtown Toronto</td>\n",
       "      <td>Regent Park, Harbourfront</td>\n",
       "      <td>43.650964</td>\n",
       "      <td>-79.353041</td>\n",
       "      <td>4</td>\n",
       "      <td>Coffee Shop</td>\n",
       "      <td>Pub</td>\n",
       "      <td>Café</td>\n",
       "      <td>Music Venue</td>\n",
       "      <td>Athletics &amp; Sports</td>\n",
       "      <td>Performing Arts Venue</td>\n",
       "      <td>Theater</td>\n",
       "      <td>Mexican Restaurant</td>\n",
       "      <td>Seafood Restaurant</td>\n",
       "      <td>Food Truck</td>\n",
       "    </tr>\n",
       "    <tr>\n",
       "      <th>3</th>\n",
       "      <td>M6A</td>\n",
       "      <td>North York</td>\n",
       "      <td>Lawrence Manor, Lawrence Heights</td>\n",
       "      <td>43.723265</td>\n",
       "      <td>-79.451211</td>\n",
       "      <td>4</td>\n",
       "      <td>Clothing Store</td>\n",
       "      <td>Bookstore</td>\n",
       "      <td>Sushi Restaurant</td>\n",
       "      <td>Men's Store</td>\n",
       "      <td>Food Court</td>\n",
       "      <td>Cosmetics Shop</td>\n",
       "      <td>American Restaurant</td>\n",
       "      <td>Furniture / Home Store</td>\n",
       "      <td>Seafood Restaurant</td>\n",
       "      <td>Café</td>\n",
       "    </tr>\n",
       "    <tr>\n",
       "      <th>4</th>\n",
       "      <td>M7A</td>\n",
       "      <td>Downtown Toronto</td>\n",
       "      <td>Queen's Park, Ontario Provincial Government</td>\n",
       "      <td>43.661790</td>\n",
       "      <td>-79.389390</td>\n",
       "      <td>4</td>\n",
       "      <td>Coffee Shop</td>\n",
       "      <td>Café</td>\n",
       "      <td>Yoga Studio</td>\n",
       "      <td>Sandwich Place</td>\n",
       "      <td>Italian Restaurant</td>\n",
       "      <td>Juice Bar</td>\n",
       "      <td>Bookstore</td>\n",
       "      <td>Fried Chicken Joint</td>\n",
       "      <td>Burger Joint</td>\n",
       "      <td>Burrito Place</td>\n",
       "    </tr>\n",
       "  </tbody>\n",
       "</table>\n",
       "</div>"
      ],
      "text/plain": [
       "  Postal code           Borough                                 Neighborhood  \\\n",
       "0         M3A        North York                                    Parkwoods   \n",
       "1         M4A        North York                             Victoria Village   \n",
       "2         M5A  Downtown Toronto                    Regent Park, Harbourfront   \n",
       "3         M6A        North York             Lawrence Manor, Lawrence Heights   \n",
       "4         M7A  Downtown Toronto  Queen's Park, Ontario Provincial Government   \n",
       "\n",
       "    Latitude  Longitude  Cluster Labels 1st Most Common Venue  \\\n",
       "0  43.752935 -79.335641               1     Food & Drink Shop   \n",
       "1  43.728102 -79.311890               4                  Park   \n",
       "2  43.650964 -79.353041               4           Coffee Shop   \n",
       "3  43.723265 -79.451211               4        Clothing Store   \n",
       "4  43.661790 -79.389390               4           Coffee Shop   \n",
       "\n",
       "  2nd Most Common Venue  3rd Most Common Venue        4th Most Common Venue  \\\n",
       "0                  Park                   Farm  Eastern European Restaurant   \n",
       "1           Pizza Place  Portuguese Restaurant                 Intersection   \n",
       "2                   Pub                   Café                  Music Venue   \n",
       "3             Bookstore       Sushi Restaurant                  Men's Store   \n",
       "4                  Café            Yoga Studio               Sandwich Place   \n",
       "\n",
       "  5th Most Common Venue  6th Most Common Venue        7th Most Common Venue  \\\n",
       "0     Electronics Store      Elementary School         Ethiopian Restaurant   \n",
       "1           Coffee Shop                   Farm  Eastern European Restaurant   \n",
       "2    Athletics & Sports  Performing Arts Venue                      Theater   \n",
       "3            Food Court         Cosmetics Shop          American Restaurant   \n",
       "4    Italian Restaurant              Juice Bar                    Bookstore   \n",
       "\n",
       "    8th Most Common Venue 9th Most Common Venue 10th Most Common Venue  \n",
       "0      Falafel Restaurant        Farmers Market             Donut Shop  \n",
       "1       Electronics Store     Elementary School   Ethiopian Restaurant  \n",
       "2      Mexican Restaurant    Seafood Restaurant             Food Truck  \n",
       "3  Furniture / Home Store    Seafood Restaurant                   Café  \n",
       "4     Fried Chicken Joint          Burger Joint          Burrito Place  "
      ]
     },
     "execution_count": 36,
     "metadata": {},
     "output_type": "execute_result"
    }
   ],
   "source": [
    "toronto_merged = df\n",
    "\n",
    "# merge toronto_grouped with toronto_data to add latitude/longitude for each neighborhood\n",
    "toronto_merged = toronto_merged.join(neighborhoods_venues_sorted.set_index('Neighborhood'), on='Postal code')\n",
    "\n",
    "\n",
    "toronto_merged.dropna(subset=['Cluster Labels'],inplace=True)  # drop any rows with NaN for the Cluster Label\n",
    "toronto_merged.reset_index(drop=True, inplace=True)            # reset index\n",
    "toronto_merged[\"Cluster Labels\"] = toronto_merged[\"Cluster Labels\"].astype(int) # change Cluster Label column to type \"int\"\n",
    "\n",
    "toronto_merged.head() # check the last columns!"
   ]
  },
  {
   "cell_type": "markdown",
   "metadata": {},
   "source": [
    "Finally, let's visualize the resulting clusters"
   ]
  },
  {
   "cell_type": "code",
   "execution_count": 37,
   "metadata": {},
   "outputs": [],
   "source": [
    "# create map\n",
    "map_clusters = folium.Map(location=[latitude, longitude], zoom_start=11)\n",
    "\n",
    "# set color scheme for the clusters\n",
    "x = np.arange(kclusters)\n",
    "ys = [i + x + (i*x)**2 for i in range(kclusters)]\n",
    "colors_array = cm.rainbow(np.linspace(0, 1, len(ys)))\n",
    "rainbow = [colors.rgb2hex(i) for i in colors_array]\n",
    "\n",
    "# add markers to the map\n",
    "markers_colors = []\n",
    "for lat, lon, poi, cluster in zip(toronto_merged['Latitude'], toronto_merged['Longitude'], toronto_merged['Neighborhood'], toronto_merged['Cluster Labels']):\n",
    "    label = folium.Popup(str(poi) + ' Cluster ' + str(cluster), parse_html=True)\n",
    "    folium.CircleMarker(\n",
    "        [lat, lon],\n",
    "        radius=5,\n",
    "        popup=label,\n",
    "        color=rainbow[cluster-1],\n",
    "        fill=True,\n",
    "        fill_color=rainbow[cluster-1],\n",
    "        fill_opacity=0.7).add_to(map_clusters)"
   ]
  },
  {
   "cell_type": "markdown",
   "metadata": {},
   "source": [
    "## 7. Map and Examination of Clusters"
   ]
  },
  {
   "cell_type": "code",
   "execution_count": 38,
   "metadata": {},
   "outputs": [
    {
     "data": {
      "text/html": [
       "<div style=\"width:100%;\"><div style=\"position:relative;width:100%;height:0;padding-bottom:60%;\"><iframe src=\"about:blank\" style=\"position:absolute;width:100%;height:100%;left:0;top:0;border:none !important;\" data-html=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 onload=\"this.contentDocument.open();this.contentDocument.write(atob(this.getAttribute('data-html')));this.contentDocument.close();\" allowfullscreen webkitallowfullscreen mozallowfullscreen></iframe></div></div>"
      ],
      "text/plain": [
       "<folium.folium.Map at 0x12b2e8790>"
      ]
     },
     "execution_count": 38,
     "metadata": {},
     "output_type": "execute_result"
    }
   ],
   "source": [
    "map_clusters"
   ]
  },
  {
   "cell_type": "markdown",
   "metadata": {},
   "source": [
    "### Finally, examine each cluster and determine the discriminating venue categories that distinguish each cluster.  \n",
    "\n",
    "Note the common elements in each cluster: \n",
    "\n",
    "Number | Color | Common Venues\n",
    "------:|-------|--------------\n",
    "0 | red        | Trails  \n",
    "1 | purple     | Parks and playgrounds  \n",
    "2 | cyan       | Pizza and sandwich shops  \n",
    "3 | sea-green  | car rentals and hotels  \n",
    "4 | orange     | coffee shops"
   ]
  },
  {
   "cell_type": "code",
   "execution_count": 39,
   "metadata": {},
   "outputs": [
    {
     "data": {
      "text/html": [
       "<div>\n",
       "<style scoped>\n",
       "    .dataframe tbody tr th:only-of-type {\n",
       "        vertical-align: middle;\n",
       "    }\n",
       "\n",
       "    .dataframe tbody tr th {\n",
       "        vertical-align: top;\n",
       "    }\n",
       "\n",
       "    .dataframe thead th {\n",
       "        text-align: right;\n",
       "    }\n",
       "</style>\n",
       "<table border=\"1\" class=\"dataframe\">\n",
       "  <thead>\n",
       "    <tr style=\"text-align: right;\">\n",
       "      <th></th>\n",
       "      <th>Borough</th>\n",
       "      <th>Neighborhood</th>\n",
       "      <th>Cluster Labels</th>\n",
       "      <th>1st Most Common Venue</th>\n",
       "      <th>2nd Most Common Venue</th>\n",
       "      <th>3rd Most Common Venue</th>\n",
       "      <th>4th Most Common Venue</th>\n",
       "      <th>5th Most Common Venue</th>\n",
       "      <th>6th Most Common Venue</th>\n",
       "      <th>7th Most Common Venue</th>\n",
       "      <th>8th Most Common Venue</th>\n",
       "      <th>9th Most Common Venue</th>\n",
       "      <th>10th Most Common Venue</th>\n",
       "    </tr>\n",
       "  </thead>\n",
       "  <tbody>\n",
       "    <tr>\n",
       "      <th>6</th>\n",
       "      <td>Scarborough</td>\n",
       "      <td>Malvern, Rouge</td>\n",
       "      <td>0</td>\n",
       "      <td>Trail</td>\n",
       "      <td>Women's Store</td>\n",
       "      <td>Farm</td>\n",
       "      <td>Eastern European Restaurant</td>\n",
       "      <td>Electronics Store</td>\n",
       "      <td>Elementary School</td>\n",
       "      <td>Ethiopian Restaurant</td>\n",
       "      <td>Falafel Restaurant</td>\n",
       "      <td>Farmers Market</td>\n",
       "      <td>Donut Shop</td>\n",
       "    </tr>\n",
       "    <tr>\n",
       "      <th>12</th>\n",
       "      <td>North York</td>\n",
       "      <td>Don Mills</td>\n",
       "      <td>0</td>\n",
       "      <td>Trail</td>\n",
       "      <td>Park</td>\n",
       "      <td>Other Great Outdoors</td>\n",
       "      <td>Athletics &amp; Sports</td>\n",
       "      <td>Eastern European Restaurant</td>\n",
       "      <td>Electronics Store</td>\n",
       "      <td>Elementary School</td>\n",
       "      <td>Ethiopian Restaurant</td>\n",
       "      <td>Falafel Restaurant</td>\n",
       "      <td>Women's Store</td>\n",
       "    </tr>\n",
       "    <tr>\n",
       "      <th>25</th>\n",
       "      <td>Scarborough</td>\n",
       "      <td>Cedarbrae</td>\n",
       "      <td>0</td>\n",
       "      <td>Construction &amp; Landscaping</td>\n",
       "      <td>Trail</td>\n",
       "      <td>Lounge</td>\n",
       "      <td>Gaming Cafe</td>\n",
       "      <td>Electronics Store</td>\n",
       "      <td>Elementary School</td>\n",
       "      <td>Ethiopian Restaurant</td>\n",
       "      <td>Falafel Restaurant</td>\n",
       "      <td>Farm</td>\n",
       "      <td>Farmers Market</td>\n",
       "    </tr>\n",
       "    <tr>\n",
       "      <th>38</th>\n",
       "      <td>North York</td>\n",
       "      <td>Bayview Village</td>\n",
       "      <td>0</td>\n",
       "      <td>Trail</td>\n",
       "      <td>Construction &amp; Landscaping</td>\n",
       "      <td>Women's Store</td>\n",
       "      <td>Eastern European Restaurant</td>\n",
       "      <td>Electronics Store</td>\n",
       "      <td>Elementary School</td>\n",
       "      <td>Ethiopian Restaurant</td>\n",
       "      <td>Falafel Restaurant</td>\n",
       "      <td>Farm</td>\n",
       "      <td>Farmers Market</td>\n",
       "    </tr>\n",
       "  </tbody>\n",
       "</table>\n",
       "</div>"
      ],
      "text/plain": [
       "        Borough     Neighborhood  Cluster Labels       1st Most Common Venue  \\\n",
       "6   Scarborough   Malvern, Rouge               0                       Trail   \n",
       "12   North York        Don Mills               0                       Trail   \n",
       "25  Scarborough        Cedarbrae               0  Construction & Landscaping   \n",
       "38   North York  Bayview Village               0                       Trail   \n",
       "\n",
       "         2nd Most Common Venue 3rd Most Common Venue  \\\n",
       "6                Women's Store                  Farm   \n",
       "12                        Park  Other Great Outdoors   \n",
       "25                       Trail                Lounge   \n",
       "38  Construction & Landscaping         Women's Store   \n",
       "\n",
       "          4th Most Common Venue        5th Most Common Venue  \\\n",
       "6   Eastern European Restaurant            Electronics Store   \n",
       "12           Athletics & Sports  Eastern European Restaurant   \n",
       "25                  Gaming Cafe            Electronics Store   \n",
       "38  Eastern European Restaurant            Electronics Store   \n",
       "\n",
       "   6th Most Common Venue 7th Most Common Venue 8th Most Common Venue  \\\n",
       "6      Elementary School  Ethiopian Restaurant    Falafel Restaurant   \n",
       "12     Electronics Store     Elementary School  Ethiopian Restaurant   \n",
       "25     Elementary School  Ethiopian Restaurant    Falafel Restaurant   \n",
       "38     Elementary School  Ethiopian Restaurant    Falafel Restaurant   \n",
       "\n",
       "   9th Most Common Venue 10th Most Common Venue  \n",
       "6         Farmers Market             Donut Shop  \n",
       "12    Falafel Restaurant          Women's Store  \n",
       "25                  Farm         Farmers Market  \n",
       "38                  Farm         Farmers Market  "
      ]
     },
     "metadata": {},
     "output_type": "display_data"
    },
    {
     "data": {
      "text/html": [
       "<div>\n",
       "<style scoped>\n",
       "    .dataframe tbody tr th:only-of-type {\n",
       "        vertical-align: middle;\n",
       "    }\n",
       "\n",
       "    .dataframe tbody tr th {\n",
       "        vertical-align: top;\n",
       "    }\n",
       "\n",
       "    .dataframe thead th {\n",
       "        text-align: right;\n",
       "    }\n",
       "</style>\n",
       "<table border=\"1\" class=\"dataframe\">\n",
       "  <thead>\n",
       "    <tr style=\"text-align: right;\">\n",
       "      <th></th>\n",
       "      <th>Borough</th>\n",
       "      <th>Neighborhood</th>\n",
       "      <th>Cluster Labels</th>\n",
       "      <th>1st Most Common Venue</th>\n",
       "      <th>2nd Most Common Venue</th>\n",
       "      <th>3rd Most Common Venue</th>\n",
       "      <th>4th Most Common Venue</th>\n",
       "      <th>5th Most Common Venue</th>\n",
       "      <th>6th Most Common Venue</th>\n",
       "      <th>7th Most Common Venue</th>\n",
       "      <th>8th Most Common Venue</th>\n",
       "      <th>9th Most Common Venue</th>\n",
       "      <th>10th Most Common Venue</th>\n",
       "    </tr>\n",
       "  </thead>\n",
       "  <tbody>\n",
       "    <tr>\n",
       "      <th>0</th>\n",
       "      <td>North York</td>\n",
       "      <td>Parkwoods</td>\n",
       "      <td>1</td>\n",
       "      <td>Food &amp; Drink Shop</td>\n",
       "      <td>Park</td>\n",
       "      <td>Farm</td>\n",
       "      <td>Eastern European Restaurant</td>\n",
       "      <td>Electronics Store</td>\n",
       "      <td>Elementary School</td>\n",
       "      <td>Ethiopian Restaurant</td>\n",
       "      <td>Falafel Restaurant</td>\n",
       "      <td>Farmers Market</td>\n",
       "      <td>Donut Shop</td>\n",
       "    </tr>\n",
       "    <tr>\n",
       "      <th>5</th>\n",
       "      <td>Etobicoke</td>\n",
       "      <td>Islington Avenue</td>\n",
       "      <td>1</td>\n",
       "      <td>Park</td>\n",
       "      <td>Baseball Field</td>\n",
       "      <td>Skating Rink</td>\n",
       "      <td>Women's Store</td>\n",
       "      <td>Electronics Store</td>\n",
       "      <td>Elementary School</td>\n",
       "      <td>Ethiopian Restaurant</td>\n",
       "      <td>Falafel Restaurant</td>\n",
       "      <td>Farm</td>\n",
       "      <td>Farmers Market</td>\n",
       "    </tr>\n",
       "    <tr>\n",
       "      <th>20</th>\n",
       "      <td>York</td>\n",
       "      <td>Caledonia-Fairbanks</td>\n",
       "      <td>1</td>\n",
       "      <td>Park</td>\n",
       "      <td>Women's Store</td>\n",
       "      <td>Mexican Restaurant</td>\n",
       "      <td>Beer Store</td>\n",
       "      <td>Gym</td>\n",
       "      <td>Bakery</td>\n",
       "      <td>Sporting Goods Shop</td>\n",
       "      <td>Deli / Bodega</td>\n",
       "      <td>Food</td>\n",
       "      <td>Flower Shop</td>\n",
       "    </tr>\n",
       "    <tr>\n",
       "      <th>26</th>\n",
       "      <td>North York</td>\n",
       "      <td>Hillcrest Village</td>\n",
       "      <td>1</td>\n",
       "      <td>Park</td>\n",
       "      <td>Residential Building (Apartment / Condo)</td>\n",
       "      <td>Dog Run</td>\n",
       "      <td>Fish Market</td>\n",
       "      <td>Fish &amp; Chips Shop</td>\n",
       "      <td>Field</td>\n",
       "      <td>Fast Food Restaurant</td>\n",
       "      <td>Farmers Market</td>\n",
       "      <td>Farm</td>\n",
       "      <td>Donut Shop</td>\n",
       "    </tr>\n",
       "    <tr>\n",
       "      <th>48</th>\n",
       "      <td>North York</td>\n",
       "      <td>North Park, Maple Leaf Park, Upwood Park</td>\n",
       "      <td>1</td>\n",
       "      <td>Park</td>\n",
       "      <td>Basketball Court</td>\n",
       "      <td>Deli / Bodega</td>\n",
       "      <td>Bakery</td>\n",
       "      <td>Farmers Market</td>\n",
       "      <td>Electronics Store</td>\n",
       "      <td>Elementary School</td>\n",
       "      <td>Ethiopian Restaurant</td>\n",
       "      <td>Falafel Restaurant</td>\n",
       "      <td>Farm</td>\n",
       "    </tr>\n",
       "  </tbody>\n",
       "</table>\n",
       "</div>"
      ],
      "text/plain": [
       "       Borough                              Neighborhood  Cluster Labels  \\\n",
       "0   North York                                 Parkwoods               1   \n",
       "5    Etobicoke                          Islington Avenue               1   \n",
       "20        York                       Caledonia-Fairbanks               1   \n",
       "26  North York                         Hillcrest Village               1   \n",
       "48  North York  North Park, Maple Leaf Park, Upwood Park               1   \n",
       "\n",
       "   1st Most Common Venue                     2nd Most Common Venue  \\\n",
       "0      Food & Drink Shop                                      Park   \n",
       "5                   Park                            Baseball Field   \n",
       "20                  Park                             Women's Store   \n",
       "26                  Park  Residential Building (Apartment / Condo)   \n",
       "48                  Park                          Basketball Court   \n",
       "\n",
       "   3rd Most Common Venue        4th Most Common Venue 5th Most Common Venue  \\\n",
       "0                   Farm  Eastern European Restaurant     Electronics Store   \n",
       "5           Skating Rink                Women's Store     Electronics Store   \n",
       "20    Mexican Restaurant                   Beer Store                   Gym   \n",
       "26               Dog Run                  Fish Market     Fish & Chips Shop   \n",
       "48         Deli / Bodega                       Bakery        Farmers Market   \n",
       "\n",
       "   6th Most Common Venue 7th Most Common Venue 8th Most Common Venue  \\\n",
       "0      Elementary School  Ethiopian Restaurant    Falafel Restaurant   \n",
       "5      Elementary School  Ethiopian Restaurant    Falafel Restaurant   \n",
       "20                Bakery   Sporting Goods Shop         Deli / Bodega   \n",
       "26                 Field  Fast Food Restaurant        Farmers Market   \n",
       "48     Electronics Store     Elementary School  Ethiopian Restaurant   \n",
       "\n",
       "   9th Most Common Venue 10th Most Common Venue  \n",
       "0         Farmers Market             Donut Shop  \n",
       "5                   Farm         Farmers Market  \n",
       "20                  Food            Flower Shop  \n",
       "26                  Farm             Donut Shop  \n",
       "48    Falafel Restaurant                   Farm  "
      ]
     },
     "metadata": {},
     "output_type": "display_data"
    },
    {
     "data": {
      "text/html": [
       "<div>\n",
       "<style scoped>\n",
       "    .dataframe tbody tr th:only-of-type {\n",
       "        vertical-align: middle;\n",
       "    }\n",
       "\n",
       "    .dataframe tbody tr th {\n",
       "        vertical-align: top;\n",
       "    }\n",
       "\n",
       "    .dataframe thead th {\n",
       "        text-align: right;\n",
       "    }\n",
       "</style>\n",
       "<table border=\"1\" class=\"dataframe\">\n",
       "  <thead>\n",
       "    <tr style=\"text-align: right;\">\n",
       "      <th></th>\n",
       "      <th>Borough</th>\n",
       "      <th>Neighborhood</th>\n",
       "      <th>Cluster Labels</th>\n",
       "      <th>1st Most Common Venue</th>\n",
       "      <th>2nd Most Common Venue</th>\n",
       "      <th>3rd Most Common Venue</th>\n",
       "      <th>4th Most Common Venue</th>\n",
       "      <th>5th Most Common Venue</th>\n",
       "      <th>6th Most Common Venue</th>\n",
       "      <th>7th Most Common Venue</th>\n",
       "      <th>8th Most Common Venue</th>\n",
       "      <th>9th Most Common Venue</th>\n",
       "      <th>10th Most Common Venue</th>\n",
       "    </tr>\n",
       "  </thead>\n",
       "  <tbody>\n",
       "    <tr>\n",
       "      <th>11</th>\n",
       "      <td>Etobicoke</td>\n",
       "      <td>West Deane Park, Princess Gardens, Martin Grov...</td>\n",
       "      <td>2</td>\n",
       "      <td>Pizza Place</td>\n",
       "      <td>Tea Room</td>\n",
       "      <td>Chinese Restaurant</td>\n",
       "      <td>Sandwich Place</td>\n",
       "      <td>Women's Store</td>\n",
       "      <td>Ethiopian Restaurant</td>\n",
       "      <td>Dumpling Restaurant</td>\n",
       "      <td>Eastern European Restaurant</td>\n",
       "      <td>Electronics Store</td>\n",
       "      <td>Elementary School</td>\n",
       "    </tr>\n",
       "    <tr>\n",
       "      <th>44</th>\n",
       "      <td>North York</td>\n",
       "      <td>York Mills, Silver Hills</td>\n",
       "      <td>2</td>\n",
       "      <td>Bank</td>\n",
       "      <td>Coffee Shop</td>\n",
       "      <td>Shopping Mall</td>\n",
       "      <td>Sandwich Place</td>\n",
       "      <td>Butcher</td>\n",
       "      <td>Baseball Field</td>\n",
       "      <td>Ice Cream Shop</td>\n",
       "      <td>Pharmacy</td>\n",
       "      <td>Burger Joint</td>\n",
       "      <td>Cosmetics Shop</td>\n",
       "    </tr>\n",
       "    <tr>\n",
       "      <th>50</th>\n",
       "      <td>Scarborough</td>\n",
       "      <td>Cliffside, Cliffcrest, Scarborough Village West</td>\n",
       "      <td>2</td>\n",
       "      <td>Sandwich Place</td>\n",
       "      <td>Pharmacy</td>\n",
       "      <td>Bistro</td>\n",
       "      <td>Bank</td>\n",
       "      <td>Coffee Shop</td>\n",
       "      <td>Farm</td>\n",
       "      <td>Eastern European Restaurant</td>\n",
       "      <td>Electronics Store</td>\n",
       "      <td>Elementary School</td>\n",
       "      <td>Ethiopian Restaurant</td>\n",
       "    </tr>\n",
       "    <tr>\n",
       "      <th>68</th>\n",
       "      <td>Etobicoke</td>\n",
       "      <td>Westmount</td>\n",
       "      <td>2</td>\n",
       "      <td>Pizza Place</td>\n",
       "      <td>Sandwich Place</td>\n",
       "      <td>Chinese Restaurant</td>\n",
       "      <td>Discount Store</td>\n",
       "      <td>Coffee Shop</td>\n",
       "      <td>Intersection</td>\n",
       "      <td>Ethiopian Restaurant</td>\n",
       "      <td>Dumpling Restaurant</td>\n",
       "      <td>Eastern European Restaurant</td>\n",
       "      <td>Electronics Store</td>\n",
       "    </tr>\n",
       "    <tr>\n",
       "      <th>75</th>\n",
       "      <td>Etobicoke</td>\n",
       "      <td>Kingsview Village, St. Phillips, Martin Grove ...</td>\n",
       "      <td>2</td>\n",
       "      <td>Pizza Place</td>\n",
       "      <td>American Restaurant</td>\n",
       "      <td>Sandwich Place</td>\n",
       "      <td>Coffee Shop</td>\n",
       "      <td>Liquor Store</td>\n",
       "      <td>Shopping Mall</td>\n",
       "      <td>Pharmacy</td>\n",
       "      <td>Bank</td>\n",
       "      <td>Fast Food Restaurant</td>\n",
       "      <td>Farmers Market</td>\n",
       "    </tr>\n",
       "  </tbody>\n",
       "</table>\n",
       "</div>"
      ],
      "text/plain": [
       "        Borough                                       Neighborhood  \\\n",
       "11    Etobicoke  West Deane Park, Princess Gardens, Martin Grov...   \n",
       "44   North York                           York Mills, Silver Hills   \n",
       "50  Scarborough    Cliffside, Cliffcrest, Scarborough Village West   \n",
       "68    Etobicoke                                          Westmount   \n",
       "75    Etobicoke  Kingsview Village, St. Phillips, Martin Grove ...   \n",
       "\n",
       "    Cluster Labels 1st Most Common Venue 2nd Most Common Venue  \\\n",
       "11               2           Pizza Place              Tea Room   \n",
       "44               2                  Bank           Coffee Shop   \n",
       "50               2        Sandwich Place              Pharmacy   \n",
       "68               2           Pizza Place        Sandwich Place   \n",
       "75               2           Pizza Place   American Restaurant   \n",
       "\n",
       "   3rd Most Common Venue 4th Most Common Venue 5th Most Common Venue  \\\n",
       "11    Chinese Restaurant        Sandwich Place         Women's Store   \n",
       "44         Shopping Mall        Sandwich Place               Butcher   \n",
       "50                Bistro                  Bank           Coffee Shop   \n",
       "68    Chinese Restaurant        Discount Store           Coffee Shop   \n",
       "75        Sandwich Place           Coffee Shop          Liquor Store   \n",
       "\n",
       "   6th Most Common Venue        7th Most Common Venue  \\\n",
       "11  Ethiopian Restaurant          Dumpling Restaurant   \n",
       "44        Baseball Field               Ice Cream Shop   \n",
       "50                  Farm  Eastern European Restaurant   \n",
       "68          Intersection         Ethiopian Restaurant   \n",
       "75         Shopping Mall                     Pharmacy   \n",
       "\n",
       "          8th Most Common Venue        9th Most Common Venue  \\\n",
       "11  Eastern European Restaurant            Electronics Store   \n",
       "44                     Pharmacy                 Burger Joint   \n",
       "50            Electronics Store            Elementary School   \n",
       "68          Dumpling Restaurant  Eastern European Restaurant   \n",
       "75                         Bank         Fast Food Restaurant   \n",
       "\n",
       "   10th Most Common Venue  \n",
       "11      Elementary School  \n",
       "44         Cosmetics Shop  \n",
       "50   Ethiopian Restaurant  \n",
       "68      Electronics Store  \n",
       "75         Farmers Market  "
      ]
     },
     "metadata": {},
     "output_type": "display_data"
    },
    {
     "data": {
      "text/html": [
       "<div>\n",
       "<style scoped>\n",
       "    .dataframe tbody tr th:only-of-type {\n",
       "        vertical-align: middle;\n",
       "    }\n",
       "\n",
       "    .dataframe tbody tr th {\n",
       "        vertical-align: top;\n",
       "    }\n",
       "\n",
       "    .dataframe thead th {\n",
       "        text-align: right;\n",
       "    }\n",
       "</style>\n",
       "<table border=\"1\" class=\"dataframe\">\n",
       "  <thead>\n",
       "    <tr style=\"text-align: right;\">\n",
       "      <th></th>\n",
       "      <th>Borough</th>\n",
       "      <th>Neighborhood</th>\n",
       "      <th>Cluster Labels</th>\n",
       "      <th>1st Most Common Venue</th>\n",
       "      <th>2nd Most Common Venue</th>\n",
       "      <th>3rd Most Common Venue</th>\n",
       "      <th>4th Most Common Venue</th>\n",
       "      <th>5th Most Common Venue</th>\n",
       "      <th>6th Most Common Venue</th>\n",
       "      <th>7th Most Common Venue</th>\n",
       "      <th>8th Most Common Venue</th>\n",
       "      <th>9th Most Common Venue</th>\n",
       "      <th>10th Most Common Venue</th>\n",
       "    </tr>\n",
       "  </thead>\n",
       "  <tbody>\n",
       "    <tr>\n",
       "      <th>92</th>\n",
       "      <td>Etobicoke</td>\n",
       "      <td>Northwest</td>\n",
       "      <td>3</td>\n",
       "      <td>Rental Car Location</td>\n",
       "      <td>Hotel</td>\n",
       "      <td>Women's Store</td>\n",
       "      <td>Eastern European Restaurant</td>\n",
       "      <td>Electronics Store</td>\n",
       "      <td>Elementary School</td>\n",
       "      <td>Ethiopian Restaurant</td>\n",
       "      <td>Falafel Restaurant</td>\n",
       "      <td>Farm</td>\n",
       "      <td>Farmers Market</td>\n",
       "    </tr>\n",
       "  </tbody>\n",
       "</table>\n",
       "</div>"
      ],
      "text/plain": [
       "      Borough Neighborhood  Cluster Labels 1st Most Common Venue  \\\n",
       "92  Etobicoke    Northwest               3   Rental Car Location   \n",
       "\n",
       "   2nd Most Common Venue 3rd Most Common Venue        4th Most Common Venue  \\\n",
       "92                 Hotel         Women's Store  Eastern European Restaurant   \n",
       "\n",
       "   5th Most Common Venue 6th Most Common Venue 7th Most Common Venue  \\\n",
       "92     Electronics Store     Elementary School  Ethiopian Restaurant   \n",
       "\n",
       "   8th Most Common Venue 9th Most Common Venue 10th Most Common Venue  \n",
       "92    Falafel Restaurant                  Farm         Farmers Market  "
      ]
     },
     "metadata": {},
     "output_type": "display_data"
    },
    {
     "data": {
      "text/html": [
       "<div>\n",
       "<style scoped>\n",
       "    .dataframe tbody tr th:only-of-type {\n",
       "        vertical-align: middle;\n",
       "    }\n",
       "\n",
       "    .dataframe tbody tr th {\n",
       "        vertical-align: top;\n",
       "    }\n",
       "\n",
       "    .dataframe thead th {\n",
       "        text-align: right;\n",
       "    }\n",
       "</style>\n",
       "<table border=\"1\" class=\"dataframe\">\n",
       "  <thead>\n",
       "    <tr style=\"text-align: right;\">\n",
       "      <th></th>\n",
       "      <th>Borough</th>\n",
       "      <th>Neighborhood</th>\n",
       "      <th>Cluster Labels</th>\n",
       "      <th>1st Most Common Venue</th>\n",
       "      <th>2nd Most Common Venue</th>\n",
       "      <th>3rd Most Common Venue</th>\n",
       "      <th>4th Most Common Venue</th>\n",
       "      <th>5th Most Common Venue</th>\n",
       "      <th>6th Most Common Venue</th>\n",
       "      <th>7th Most Common Venue</th>\n",
       "      <th>8th Most Common Venue</th>\n",
       "      <th>9th Most Common Venue</th>\n",
       "      <th>10th Most Common Venue</th>\n",
       "    </tr>\n",
       "  </thead>\n",
       "  <tbody>\n",
       "    <tr>\n",
       "      <th>1</th>\n",
       "      <td>North York</td>\n",
       "      <td>Victoria Village</td>\n",
       "      <td>4</td>\n",
       "      <td>Park</td>\n",
       "      <td>Pizza Place</td>\n",
       "      <td>Portuguese Restaurant</td>\n",
       "      <td>Intersection</td>\n",
       "      <td>Coffee Shop</td>\n",
       "      <td>Farm</td>\n",
       "      <td>Eastern European Restaurant</td>\n",
       "      <td>Electronics Store</td>\n",
       "      <td>Elementary School</td>\n",
       "      <td>Ethiopian Restaurant</td>\n",
       "    </tr>\n",
       "    <tr>\n",
       "      <th>2</th>\n",
       "      <td>Downtown Toronto</td>\n",
       "      <td>Regent Park, Harbourfront</td>\n",
       "      <td>4</td>\n",
       "      <td>Coffee Shop</td>\n",
       "      <td>Pub</td>\n",
       "      <td>Café</td>\n",
       "      <td>Music Venue</td>\n",
       "      <td>Athletics &amp; Sports</td>\n",
       "      <td>Performing Arts Venue</td>\n",
       "      <td>Theater</td>\n",
       "      <td>Mexican Restaurant</td>\n",
       "      <td>Seafood Restaurant</td>\n",
       "      <td>Food Truck</td>\n",
       "    </tr>\n",
       "    <tr>\n",
       "      <th>3</th>\n",
       "      <td>North York</td>\n",
       "      <td>Lawrence Manor, Lawrence Heights</td>\n",
       "      <td>4</td>\n",
       "      <td>Clothing Store</td>\n",
       "      <td>Bookstore</td>\n",
       "      <td>Sushi Restaurant</td>\n",
       "      <td>Men's Store</td>\n",
       "      <td>Food Court</td>\n",
       "      <td>Cosmetics Shop</td>\n",
       "      <td>American Restaurant</td>\n",
       "      <td>Furniture / Home Store</td>\n",
       "      <td>Seafood Restaurant</td>\n",
       "      <td>Café</td>\n",
       "    </tr>\n",
       "    <tr>\n",
       "      <th>4</th>\n",
       "      <td>Downtown Toronto</td>\n",
       "      <td>Queen's Park, Ontario Provincial Government</td>\n",
       "      <td>4</td>\n",
       "      <td>Coffee Shop</td>\n",
       "      <td>Café</td>\n",
       "      <td>Yoga Studio</td>\n",
       "      <td>Sandwich Place</td>\n",
       "      <td>Italian Restaurant</td>\n",
       "      <td>Juice Bar</td>\n",
       "      <td>Bookstore</td>\n",
       "      <td>Fried Chicken Joint</td>\n",
       "      <td>Burger Joint</td>\n",
       "      <td>Burrito Place</td>\n",
       "    </tr>\n",
       "    <tr>\n",
       "      <th>7</th>\n",
       "      <td>North York</td>\n",
       "      <td>Don Mills</td>\n",
       "      <td>4</td>\n",
       "      <td>Athletics &amp; Sports</td>\n",
       "      <td>Restaurant</td>\n",
       "      <td>Burger Joint</td>\n",
       "      <td>Bank</td>\n",
       "      <td>Women's Store</td>\n",
       "      <td>Electronics Store</td>\n",
       "      <td>Elementary School</td>\n",
       "      <td>Ethiopian Restaurant</td>\n",
       "      <td>Falafel Restaurant</td>\n",
       "      <td>Farm</td>\n",
       "    </tr>\n",
       "  </tbody>\n",
       "</table>\n",
       "</div>"
      ],
      "text/plain": [
       "            Borough                                 Neighborhood  \\\n",
       "1        North York                             Victoria Village   \n",
       "2  Downtown Toronto                    Regent Park, Harbourfront   \n",
       "3        North York             Lawrence Manor, Lawrence Heights   \n",
       "4  Downtown Toronto  Queen's Park, Ontario Provincial Government   \n",
       "7        North York                                    Don Mills   \n",
       "\n",
       "   Cluster Labels 1st Most Common Venue 2nd Most Common Venue  \\\n",
       "1               4                  Park           Pizza Place   \n",
       "2               4           Coffee Shop                   Pub   \n",
       "3               4        Clothing Store             Bookstore   \n",
       "4               4           Coffee Shop                  Café   \n",
       "7               4    Athletics & Sports            Restaurant   \n",
       "\n",
       "   3rd Most Common Venue 4th Most Common Venue 5th Most Common Venue  \\\n",
       "1  Portuguese Restaurant          Intersection           Coffee Shop   \n",
       "2                   Café           Music Venue    Athletics & Sports   \n",
       "3       Sushi Restaurant           Men's Store            Food Court   \n",
       "4            Yoga Studio        Sandwich Place    Italian Restaurant   \n",
       "7           Burger Joint                  Bank         Women's Store   \n",
       "\n",
       "   6th Most Common Venue        7th Most Common Venue   8th Most Common Venue  \\\n",
       "1                   Farm  Eastern European Restaurant       Electronics Store   \n",
       "2  Performing Arts Venue                      Theater      Mexican Restaurant   \n",
       "3         Cosmetics Shop          American Restaurant  Furniture / Home Store   \n",
       "4              Juice Bar                    Bookstore     Fried Chicken Joint   \n",
       "7      Electronics Store            Elementary School    Ethiopian Restaurant   \n",
       "\n",
       "  9th Most Common Venue 10th Most Common Venue  \n",
       "1     Elementary School   Ethiopian Restaurant  \n",
       "2    Seafood Restaurant             Food Truck  \n",
       "3    Seafood Restaurant                   Café  \n",
       "4          Burger Joint          Burrito Place  \n",
       "7    Falafel Restaurant                   Farm  "
      ]
     },
     "metadata": {},
     "output_type": "display_data"
    }
   ],
   "source": [
    "for cluster_num in range(5):\n",
    "    cl = toronto_merged.loc[toronto_merged['Cluster Labels'] == cluster_num, toronto_merged.columns[[1, 2] + list(range(5, toronto_merged.shape[1]))]]\n",
    "    display(cl.head(5))"
   ]
  },
  {
   "cell_type": "code",
   "execution_count": null,
   "metadata": {},
   "outputs": [],
   "source": []
  }
 ],
 "metadata": {
  "kernelspec": {
   "display_name": "Python 3",
   "language": "python",
   "name": "python3"
  },
  "language_info": {
   "codemirror_mode": {
    "name": "ipython",
    "version": 3
   },
   "file_extension": ".py",
   "mimetype": "text/x-python",
   "name": "python",
   "nbconvert_exporter": "python",
   "pygments_lexer": "ipython3",
   "version": "3.8.0"
  }
 },
 "nbformat": 4,
 "nbformat_minor": 4
}
